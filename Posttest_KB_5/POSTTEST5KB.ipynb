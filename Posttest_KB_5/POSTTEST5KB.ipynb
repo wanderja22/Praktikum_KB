{
  "nbformat": 4,
  "nbformat_minor": 0,
  "metadata": {
    "colab": {
      "provenance": []
    },
    "kernelspec": {
      "name": "python3",
      "display_name": "Python 3"
    },
    "language_info": {
      "name": "python"
    }
  },
  "cells": [
    {
      "cell_type": "markdown",
      "source": [
        "Yuan Maulvi Hafiizh / 2209106107"
      ],
      "metadata": {
        "id": "ChBtbGusNj0j"
      }
    },
    {
      "cell_type": "markdown",
      "source": [
        "<h2> POSTTEST 5"
      ],
      "metadata": {
        "id": "XuVJxzj62v-5"
      }
    },
    {
      "cell_type": "markdown",
      "source": [
        "# Import Library\n",
        "\n",
        "- 'pandas' untuk manipulasi, membaca dataset karyawan, memeriksa missing values, mengelola duplikat data, dan melakukan analisis data lainnya sebelum diproses lebih lanjut dalam model deep learning"
      ],
      "metadata": {
        "id": "obx1z_-73t_c"
      }
    },
    {
      "cell_type": "code",
      "execution_count": null,
      "metadata": {
        "id": "Nb5cf4_Av93w"
      },
      "outputs": [],
      "source": [
        "import pandas as pd"
      ]
    },
    {
      "cell_type": "markdown",
      "source": [
        "# Membaca Dataset & Menampilkan DataFrame\n",
        "\n",
        "- 'pd.read_csv()' digunakan untuk membaca file CSV dan mengubahnya menjadi DataFrame\n",
        "- 'df' untuk menampilkan dataframe"
      ],
      "metadata": {
        "id": "2Bwq22bf5LLT"
      }
    },
    {
      "cell_type": "code",
      "source": [
        "df = pd.read_csv('Employee.csv')\n",
        "df"
      ],
      "metadata": {
        "colab": {
          "base_uri": "https://localhost:8080/",
          "height": 423
        },
        "id": "SIo8hXrvy3R4",
        "outputId": "455571f5-3799-4cb1-b340-0c4d3a6d3235"
      },
      "execution_count": null,
      "outputs": [
        {
          "output_type": "execute_result",
          "data": {
            "text/plain": [
              "      Education  JoiningYear       City  PaymentTier  Age  Gender EverBenched  \\\n",
              "0     Bachelors         2017  Bangalore            3   34    Male          No   \n",
              "1     Bachelors         2013       Pune            1   28  Female          No   \n",
              "2     Bachelors         2014  New Delhi            3   38  Female          No   \n",
              "3       Masters         2016  Bangalore            3   27    Male          No   \n",
              "4       Masters         2017       Pune            3   24    Male         Yes   \n",
              "...         ...          ...        ...          ...  ...     ...         ...   \n",
              "4648  Bachelors         2013  Bangalore            3   26  Female          No   \n",
              "4649    Masters         2013       Pune            2   37    Male          No   \n",
              "4650    Masters         2018  New Delhi            3   27    Male          No   \n",
              "4651  Bachelors         2012  Bangalore            3   30    Male         Yes   \n",
              "4652  Bachelors         2015  Bangalore            3   33    Male         Yes   \n",
              "\n",
              "      ExperienceInCurrentDomain  LeaveOrNot  \n",
              "0                             0           0  \n",
              "1                             3           1  \n",
              "2                             2           0  \n",
              "3                             5           1  \n",
              "4                             2           1  \n",
              "...                         ...         ...  \n",
              "4648                          4           0  \n",
              "4649                          2           1  \n",
              "4650                          5           1  \n",
              "4651                          2           0  \n",
              "4652                          4           0  \n",
              "\n",
              "[4653 rows x 9 columns]"
            ],
            "text/html": [
              "\n",
              "  <div id=\"df-ed91bd62-b4b4-4123-9cc7-abc15f187ce3\" class=\"colab-df-container\">\n",
              "    <div>\n",
              "<style scoped>\n",
              "    .dataframe tbody tr th:only-of-type {\n",
              "        vertical-align: middle;\n",
              "    }\n",
              "\n",
              "    .dataframe tbody tr th {\n",
              "        vertical-align: top;\n",
              "    }\n",
              "\n",
              "    .dataframe thead th {\n",
              "        text-align: right;\n",
              "    }\n",
              "</style>\n",
              "<table border=\"1\" class=\"dataframe\">\n",
              "  <thead>\n",
              "    <tr style=\"text-align: right;\">\n",
              "      <th></th>\n",
              "      <th>Education</th>\n",
              "      <th>JoiningYear</th>\n",
              "      <th>City</th>\n",
              "      <th>PaymentTier</th>\n",
              "      <th>Age</th>\n",
              "      <th>Gender</th>\n",
              "      <th>EverBenched</th>\n",
              "      <th>ExperienceInCurrentDomain</th>\n",
              "      <th>LeaveOrNot</th>\n",
              "    </tr>\n",
              "  </thead>\n",
              "  <tbody>\n",
              "    <tr>\n",
              "      <th>0</th>\n",
              "      <td>Bachelors</td>\n",
              "      <td>2017</td>\n",
              "      <td>Bangalore</td>\n",
              "      <td>3</td>\n",
              "      <td>34</td>\n",
              "      <td>Male</td>\n",
              "      <td>No</td>\n",
              "      <td>0</td>\n",
              "      <td>0</td>\n",
              "    </tr>\n",
              "    <tr>\n",
              "      <th>1</th>\n",
              "      <td>Bachelors</td>\n",
              "      <td>2013</td>\n",
              "      <td>Pune</td>\n",
              "      <td>1</td>\n",
              "      <td>28</td>\n",
              "      <td>Female</td>\n",
              "      <td>No</td>\n",
              "      <td>3</td>\n",
              "      <td>1</td>\n",
              "    </tr>\n",
              "    <tr>\n",
              "      <th>2</th>\n",
              "      <td>Bachelors</td>\n",
              "      <td>2014</td>\n",
              "      <td>New Delhi</td>\n",
              "      <td>3</td>\n",
              "      <td>38</td>\n",
              "      <td>Female</td>\n",
              "      <td>No</td>\n",
              "      <td>2</td>\n",
              "      <td>0</td>\n",
              "    </tr>\n",
              "    <tr>\n",
              "      <th>3</th>\n",
              "      <td>Masters</td>\n",
              "      <td>2016</td>\n",
              "      <td>Bangalore</td>\n",
              "      <td>3</td>\n",
              "      <td>27</td>\n",
              "      <td>Male</td>\n",
              "      <td>No</td>\n",
              "      <td>5</td>\n",
              "      <td>1</td>\n",
              "    </tr>\n",
              "    <tr>\n",
              "      <th>4</th>\n",
              "      <td>Masters</td>\n",
              "      <td>2017</td>\n",
              "      <td>Pune</td>\n",
              "      <td>3</td>\n",
              "      <td>24</td>\n",
              "      <td>Male</td>\n",
              "      <td>Yes</td>\n",
              "      <td>2</td>\n",
              "      <td>1</td>\n",
              "    </tr>\n",
              "    <tr>\n",
              "      <th>...</th>\n",
              "      <td>...</td>\n",
              "      <td>...</td>\n",
              "      <td>...</td>\n",
              "      <td>...</td>\n",
              "      <td>...</td>\n",
              "      <td>...</td>\n",
              "      <td>...</td>\n",
              "      <td>...</td>\n",
              "      <td>...</td>\n",
              "    </tr>\n",
              "    <tr>\n",
              "      <th>4648</th>\n",
              "      <td>Bachelors</td>\n",
              "      <td>2013</td>\n",
              "      <td>Bangalore</td>\n",
              "      <td>3</td>\n",
              "      <td>26</td>\n",
              "      <td>Female</td>\n",
              "      <td>No</td>\n",
              "      <td>4</td>\n",
              "      <td>0</td>\n",
              "    </tr>\n",
              "    <tr>\n",
              "      <th>4649</th>\n",
              "      <td>Masters</td>\n",
              "      <td>2013</td>\n",
              "      <td>Pune</td>\n",
              "      <td>2</td>\n",
              "      <td>37</td>\n",
              "      <td>Male</td>\n",
              "      <td>No</td>\n",
              "      <td>2</td>\n",
              "      <td>1</td>\n",
              "    </tr>\n",
              "    <tr>\n",
              "      <th>4650</th>\n",
              "      <td>Masters</td>\n",
              "      <td>2018</td>\n",
              "      <td>New Delhi</td>\n",
              "      <td>3</td>\n",
              "      <td>27</td>\n",
              "      <td>Male</td>\n",
              "      <td>No</td>\n",
              "      <td>5</td>\n",
              "      <td>1</td>\n",
              "    </tr>\n",
              "    <tr>\n",
              "      <th>4651</th>\n",
              "      <td>Bachelors</td>\n",
              "      <td>2012</td>\n",
              "      <td>Bangalore</td>\n",
              "      <td>3</td>\n",
              "      <td>30</td>\n",
              "      <td>Male</td>\n",
              "      <td>Yes</td>\n",
              "      <td>2</td>\n",
              "      <td>0</td>\n",
              "    </tr>\n",
              "    <tr>\n",
              "      <th>4652</th>\n",
              "      <td>Bachelors</td>\n",
              "      <td>2015</td>\n",
              "      <td>Bangalore</td>\n",
              "      <td>3</td>\n",
              "      <td>33</td>\n",
              "      <td>Male</td>\n",
              "      <td>Yes</td>\n",
              "      <td>4</td>\n",
              "      <td>0</td>\n",
              "    </tr>\n",
              "  </tbody>\n",
              "</table>\n",
              "<p>4653 rows × 9 columns</p>\n",
              "</div>\n",
              "    <div class=\"colab-df-buttons\">\n",
              "\n",
              "  <div class=\"colab-df-container\">\n",
              "    <button class=\"colab-df-convert\" onclick=\"convertToInteractive('df-ed91bd62-b4b4-4123-9cc7-abc15f187ce3')\"\n",
              "            title=\"Convert this dataframe to an interactive table.\"\n",
              "            style=\"display:none;\">\n",
              "\n",
              "  <svg xmlns=\"http://www.w3.org/2000/svg\" height=\"24px\" viewBox=\"0 -960 960 960\">\n",
              "    <path d=\"M120-120v-720h720v720H120Zm60-500h600v-160H180v160Zm220 220h160v-160H400v160Zm0 220h160v-160H400v160ZM180-400h160v-160H180v160Zm440 0h160v-160H620v160ZM180-180h160v-160H180v160Zm440 0h160v-160H620v160Z\"/>\n",
              "  </svg>\n",
              "    </button>\n",
              "\n",
              "  <style>\n",
              "    .colab-df-container {\n",
              "      display:flex;\n",
              "      gap: 12px;\n",
              "    }\n",
              "\n",
              "    .colab-df-convert {\n",
              "      background-color: #E8F0FE;\n",
              "      border: none;\n",
              "      border-radius: 50%;\n",
              "      cursor: pointer;\n",
              "      display: none;\n",
              "      fill: #1967D2;\n",
              "      height: 32px;\n",
              "      padding: 0 0 0 0;\n",
              "      width: 32px;\n",
              "    }\n",
              "\n",
              "    .colab-df-convert:hover {\n",
              "      background-color: #E2EBFA;\n",
              "      box-shadow: 0px 1px 2px rgba(60, 64, 67, 0.3), 0px 1px 3px 1px rgba(60, 64, 67, 0.15);\n",
              "      fill: #174EA6;\n",
              "    }\n",
              "\n",
              "    .colab-df-buttons div {\n",
              "      margin-bottom: 4px;\n",
              "    }\n",
              "\n",
              "    [theme=dark] .colab-df-convert {\n",
              "      background-color: #3B4455;\n",
              "      fill: #D2E3FC;\n",
              "    }\n",
              "\n",
              "    [theme=dark] .colab-df-convert:hover {\n",
              "      background-color: #434B5C;\n",
              "      box-shadow: 0px 1px 3px 1px rgba(0, 0, 0, 0.15);\n",
              "      filter: drop-shadow(0px 1px 2px rgba(0, 0, 0, 0.3));\n",
              "      fill: #FFFFFF;\n",
              "    }\n",
              "  </style>\n",
              "\n",
              "    <script>\n",
              "      const buttonEl =\n",
              "        document.querySelector('#df-ed91bd62-b4b4-4123-9cc7-abc15f187ce3 button.colab-df-convert');\n",
              "      buttonEl.style.display =\n",
              "        google.colab.kernel.accessAllowed ? 'block' : 'none';\n",
              "\n",
              "      async function convertToInteractive(key) {\n",
              "        const element = document.querySelector('#df-ed91bd62-b4b4-4123-9cc7-abc15f187ce3');\n",
              "        const dataTable =\n",
              "          await google.colab.kernel.invokeFunction('convertToInteractive',\n",
              "                                                    [key], {});\n",
              "        if (!dataTable) return;\n",
              "\n",
              "        const docLinkHtml = 'Like what you see? Visit the ' +\n",
              "          '<a target=\"_blank\" href=https://colab.research.google.com/notebooks/data_table.ipynb>data table notebook</a>'\n",
              "          + ' to learn more about interactive tables.';\n",
              "        element.innerHTML = '';\n",
              "        dataTable['output_type'] = 'display_data';\n",
              "        await google.colab.output.renderOutput(dataTable, element);\n",
              "        const docLink = document.createElement('div');\n",
              "        docLink.innerHTML = docLinkHtml;\n",
              "        element.appendChild(docLink);\n",
              "      }\n",
              "    </script>\n",
              "  </div>\n",
              "\n",
              "\n",
              "<div id=\"df-d79a8a42-ca93-4982-ab49-cd265f71cb7c\">\n",
              "  <button class=\"colab-df-quickchart\" onclick=\"quickchart('df-d79a8a42-ca93-4982-ab49-cd265f71cb7c')\"\n",
              "            title=\"Suggest charts\"\n",
              "            style=\"display:none;\">\n",
              "\n",
              "<svg xmlns=\"http://www.w3.org/2000/svg\" height=\"24px\"viewBox=\"0 0 24 24\"\n",
              "     width=\"24px\">\n",
              "    <g>\n",
              "        <path d=\"M19 3H5c-1.1 0-2 .9-2 2v14c0 1.1.9 2 2 2h14c1.1 0 2-.9 2-2V5c0-1.1-.9-2-2-2zM9 17H7v-7h2v7zm4 0h-2V7h2v10zm4 0h-2v-4h2v4z\"/>\n",
              "    </g>\n",
              "</svg>\n",
              "  </button>\n",
              "\n",
              "<style>\n",
              "  .colab-df-quickchart {\n",
              "      --bg-color: #E8F0FE;\n",
              "      --fill-color: #1967D2;\n",
              "      --hover-bg-color: #E2EBFA;\n",
              "      --hover-fill-color: #174EA6;\n",
              "      --disabled-fill-color: #AAA;\n",
              "      --disabled-bg-color: #DDD;\n",
              "  }\n",
              "\n",
              "  [theme=dark] .colab-df-quickchart {\n",
              "      --bg-color: #3B4455;\n",
              "      --fill-color: #D2E3FC;\n",
              "      --hover-bg-color: #434B5C;\n",
              "      --hover-fill-color: #FFFFFF;\n",
              "      --disabled-bg-color: #3B4455;\n",
              "      --disabled-fill-color: #666;\n",
              "  }\n",
              "\n",
              "  .colab-df-quickchart {\n",
              "    background-color: var(--bg-color);\n",
              "    border: none;\n",
              "    border-radius: 50%;\n",
              "    cursor: pointer;\n",
              "    display: none;\n",
              "    fill: var(--fill-color);\n",
              "    height: 32px;\n",
              "    padding: 0;\n",
              "    width: 32px;\n",
              "  }\n",
              "\n",
              "  .colab-df-quickchart:hover {\n",
              "    background-color: var(--hover-bg-color);\n",
              "    box-shadow: 0 1px 2px rgba(60, 64, 67, 0.3), 0 1px 3px 1px rgba(60, 64, 67, 0.15);\n",
              "    fill: var(--button-hover-fill-color);\n",
              "  }\n",
              "\n",
              "  .colab-df-quickchart-complete:disabled,\n",
              "  .colab-df-quickchart-complete:disabled:hover {\n",
              "    background-color: var(--disabled-bg-color);\n",
              "    fill: var(--disabled-fill-color);\n",
              "    box-shadow: none;\n",
              "  }\n",
              "\n",
              "  .colab-df-spinner {\n",
              "    border: 2px solid var(--fill-color);\n",
              "    border-color: transparent;\n",
              "    border-bottom-color: var(--fill-color);\n",
              "    animation:\n",
              "      spin 1s steps(1) infinite;\n",
              "  }\n",
              "\n",
              "  @keyframes spin {\n",
              "    0% {\n",
              "      border-color: transparent;\n",
              "      border-bottom-color: var(--fill-color);\n",
              "      border-left-color: var(--fill-color);\n",
              "    }\n",
              "    20% {\n",
              "      border-color: transparent;\n",
              "      border-left-color: var(--fill-color);\n",
              "      border-top-color: var(--fill-color);\n",
              "    }\n",
              "    30% {\n",
              "      border-color: transparent;\n",
              "      border-left-color: var(--fill-color);\n",
              "      border-top-color: var(--fill-color);\n",
              "      border-right-color: var(--fill-color);\n",
              "    }\n",
              "    40% {\n",
              "      border-color: transparent;\n",
              "      border-right-color: var(--fill-color);\n",
              "      border-top-color: var(--fill-color);\n",
              "    }\n",
              "    60% {\n",
              "      border-color: transparent;\n",
              "      border-right-color: var(--fill-color);\n",
              "    }\n",
              "    80% {\n",
              "      border-color: transparent;\n",
              "      border-right-color: var(--fill-color);\n",
              "      border-bottom-color: var(--fill-color);\n",
              "    }\n",
              "    90% {\n",
              "      border-color: transparent;\n",
              "      border-bottom-color: var(--fill-color);\n",
              "    }\n",
              "  }\n",
              "</style>\n",
              "\n",
              "  <script>\n",
              "    async function quickchart(key) {\n",
              "      const quickchartButtonEl =\n",
              "        document.querySelector('#' + key + ' button');\n",
              "      quickchartButtonEl.disabled = true;  // To prevent multiple clicks.\n",
              "      quickchartButtonEl.classList.add('colab-df-spinner');\n",
              "      try {\n",
              "        const charts = await google.colab.kernel.invokeFunction(\n",
              "            'suggestCharts', [key], {});\n",
              "      } catch (error) {\n",
              "        console.error('Error during call to suggestCharts:', error);\n",
              "      }\n",
              "      quickchartButtonEl.classList.remove('colab-df-spinner');\n",
              "      quickchartButtonEl.classList.add('colab-df-quickchart-complete');\n",
              "    }\n",
              "    (() => {\n",
              "      let quickchartButtonEl =\n",
              "        document.querySelector('#df-d79a8a42-ca93-4982-ab49-cd265f71cb7c button');\n",
              "      quickchartButtonEl.style.display =\n",
              "        google.colab.kernel.accessAllowed ? 'block' : 'none';\n",
              "    })();\n",
              "  </script>\n",
              "</div>\n",
              "\n",
              "  <div id=\"id_78d71e97-7186-46ac-8737-570f4fa34946\">\n",
              "    <style>\n",
              "      .colab-df-generate {\n",
              "        background-color: #E8F0FE;\n",
              "        border: none;\n",
              "        border-radius: 50%;\n",
              "        cursor: pointer;\n",
              "        display: none;\n",
              "        fill: #1967D2;\n",
              "        height: 32px;\n",
              "        padding: 0 0 0 0;\n",
              "        width: 32px;\n",
              "      }\n",
              "\n",
              "      .colab-df-generate:hover {\n",
              "        background-color: #E2EBFA;\n",
              "        box-shadow: 0px 1px 2px rgba(60, 64, 67, 0.3), 0px 1px 3px 1px rgba(60, 64, 67, 0.15);\n",
              "        fill: #174EA6;\n",
              "      }\n",
              "\n",
              "      [theme=dark] .colab-df-generate {\n",
              "        background-color: #3B4455;\n",
              "        fill: #D2E3FC;\n",
              "      }\n",
              "\n",
              "      [theme=dark] .colab-df-generate:hover {\n",
              "        background-color: #434B5C;\n",
              "        box-shadow: 0px 1px 3px 1px rgba(0, 0, 0, 0.15);\n",
              "        filter: drop-shadow(0px 1px 2px rgba(0, 0, 0, 0.3));\n",
              "        fill: #FFFFFF;\n",
              "      }\n",
              "    </style>\n",
              "    <button class=\"colab-df-generate\" onclick=\"generateWithVariable('df')\"\n",
              "            title=\"Generate code using this dataframe.\"\n",
              "            style=\"display:none;\">\n",
              "\n",
              "  <svg xmlns=\"http://www.w3.org/2000/svg\" height=\"24px\"viewBox=\"0 0 24 24\"\n",
              "       width=\"24px\">\n",
              "    <path d=\"M7,19H8.4L18.45,9,17,7.55,7,17.6ZM5,21V16.75L18.45,3.32a2,2,0,0,1,2.83,0l1.4,1.43a1.91,1.91,0,0,1,.58,1.4,1.91,1.91,0,0,1-.58,1.4L9.25,21ZM18.45,9,17,7.55Zm-12,3A5.31,5.31,0,0,0,4.9,8.1,5.31,5.31,0,0,0,1,6.5,5.31,5.31,0,0,0,4.9,4.9,5.31,5.31,0,0,0,6.5,1,5.31,5.31,0,0,0,8.1,4.9,5.31,5.31,0,0,0,12,6.5,5.46,5.46,0,0,0,6.5,12Z\"/>\n",
              "  </svg>\n",
              "    </button>\n",
              "    <script>\n",
              "      (() => {\n",
              "      const buttonEl =\n",
              "        document.querySelector('#id_78d71e97-7186-46ac-8737-570f4fa34946 button.colab-df-generate');\n",
              "      buttonEl.style.display =\n",
              "        google.colab.kernel.accessAllowed ? 'block' : 'none';\n",
              "\n",
              "      buttonEl.onclick = () => {\n",
              "        google.colab.notebook.generateWithVariable('df');\n",
              "      }\n",
              "      })();\n",
              "    </script>\n",
              "  </div>\n",
              "\n",
              "    </div>\n",
              "  </div>\n"
            ],
            "application/vnd.google.colaboratory.intrinsic+json": {
              "type": "dataframe",
              "variable_name": "df",
              "summary": "{\n  \"name\": \"df\",\n  \"rows\": 4653,\n  \"fields\": [\n    {\n      \"column\": \"Education\",\n      \"properties\": {\n        \"dtype\": \"category\",\n        \"num_unique_values\": 3,\n        \"samples\": [\n          \"Bachelors\",\n          \"Masters\",\n          \"PHD\"\n        ],\n        \"semantic_type\": \"\",\n        \"description\": \"\"\n      }\n    },\n    {\n      \"column\": \"JoiningYear\",\n      \"properties\": {\n        \"dtype\": \"number\",\n        \"std\": 1,\n        \"min\": 2012,\n        \"max\": 2018,\n        \"num_unique_values\": 7,\n        \"samples\": [\n          2017,\n          2013,\n          2012\n        ],\n        \"semantic_type\": \"\",\n        \"description\": \"\"\n      }\n    },\n    {\n      \"column\": \"City\",\n      \"properties\": {\n        \"dtype\": \"category\",\n        \"num_unique_values\": 3,\n        \"samples\": [\n          \"Bangalore\",\n          \"Pune\",\n          \"New Delhi\"\n        ],\n        \"semantic_type\": \"\",\n        \"description\": \"\"\n      }\n    },\n    {\n      \"column\": \"PaymentTier\",\n      \"properties\": {\n        \"dtype\": \"number\",\n        \"std\": 0,\n        \"min\": 1,\n        \"max\": 3,\n        \"num_unique_values\": 3,\n        \"samples\": [\n          3,\n          1,\n          2\n        ],\n        \"semantic_type\": \"\",\n        \"description\": \"\"\n      }\n    },\n    {\n      \"column\": \"Age\",\n      \"properties\": {\n        \"dtype\": \"number\",\n        \"std\": 4,\n        \"min\": 22,\n        \"max\": 41,\n        \"num_unique_values\": 20,\n        \"samples\": [\n          34,\n          35,\n          26\n        ],\n        \"semantic_type\": \"\",\n        \"description\": \"\"\n      }\n    },\n    {\n      \"column\": \"Gender\",\n      \"properties\": {\n        \"dtype\": \"category\",\n        \"num_unique_values\": 2,\n        \"samples\": [\n          \"Female\",\n          \"Male\"\n        ],\n        \"semantic_type\": \"\",\n        \"description\": \"\"\n      }\n    },\n    {\n      \"column\": \"EverBenched\",\n      \"properties\": {\n        \"dtype\": \"category\",\n        \"num_unique_values\": 2,\n        \"samples\": [\n          \"Yes\",\n          \"No\"\n        ],\n        \"semantic_type\": \"\",\n        \"description\": \"\"\n      }\n    },\n    {\n      \"column\": \"ExperienceInCurrentDomain\",\n      \"properties\": {\n        \"dtype\": \"number\",\n        \"std\": 1,\n        \"min\": 0,\n        \"max\": 7,\n        \"num_unique_values\": 8,\n        \"samples\": [\n          3,\n          4\n        ],\n        \"semantic_type\": \"\",\n        \"description\": \"\"\n      }\n    },\n    {\n      \"column\": \"LeaveOrNot\",\n      \"properties\": {\n        \"dtype\": \"number\",\n        \"std\": 0,\n        \"min\": 0,\n        \"max\": 1,\n        \"num_unique_values\": 2,\n        \"samples\": [\n          1,\n          0\n        ],\n        \"semantic_type\": \"\",\n        \"description\": \"\"\n      }\n    }\n  ]\n}"
            }
          },
          "metadata": {},
          "execution_count": 21
        }
      ]
    },
    {
      "cell_type": "markdown",
      "source": [
        "# Pengecekan Missing Values\n",
        "- 'isna()' digunakan untuk mendeteksi nilai yang hilang (missing values) atau NaN dalam DataFrame. Setiap kolom akan diperiksa apakah ada nilai yang hilang.\n",
        "- 'sum()' akan menjumlahkan jumlah missing values di setiap kolom, sehingga kita dapat melihat berapa banyak data yang hilang untuk masing-masing fitur."
      ],
      "metadata": {
        "id": "BqOipPUk6IQp"
      }
    },
    {
      "cell_type": "code",
      "source": [
        "df.isna().sum()"
      ],
      "metadata": {
        "colab": {
          "base_uri": "https://localhost:8080/",
          "height": 366
        },
        "id": "zb8dpkoPy_UN",
        "outputId": "378ce7a6-2dd8-4c1d-f1ba-a789bb648219"
      },
      "execution_count": null,
      "outputs": [
        {
          "output_type": "execute_result",
          "data": {
            "text/plain": [
              "Education                    0\n",
              "JoiningYear                  0\n",
              "City                         0\n",
              "PaymentTier                  0\n",
              "Age                          0\n",
              "Gender                       0\n",
              "EverBenched                  0\n",
              "ExperienceInCurrentDomain    0\n",
              "LeaveOrNot                   0\n",
              "dtype: int64"
            ],
            "text/html": [
              "<div>\n",
              "<style scoped>\n",
              "    .dataframe tbody tr th:only-of-type {\n",
              "        vertical-align: middle;\n",
              "    }\n",
              "\n",
              "    .dataframe tbody tr th {\n",
              "        vertical-align: top;\n",
              "    }\n",
              "\n",
              "    .dataframe thead th {\n",
              "        text-align: right;\n",
              "    }\n",
              "</style>\n",
              "<table border=\"1\" class=\"dataframe\">\n",
              "  <thead>\n",
              "    <tr style=\"text-align: right;\">\n",
              "      <th></th>\n",
              "      <th>0</th>\n",
              "    </tr>\n",
              "  </thead>\n",
              "  <tbody>\n",
              "    <tr>\n",
              "      <th>Education</th>\n",
              "      <td>0</td>\n",
              "    </tr>\n",
              "    <tr>\n",
              "      <th>JoiningYear</th>\n",
              "      <td>0</td>\n",
              "    </tr>\n",
              "    <tr>\n",
              "      <th>City</th>\n",
              "      <td>0</td>\n",
              "    </tr>\n",
              "    <tr>\n",
              "      <th>PaymentTier</th>\n",
              "      <td>0</td>\n",
              "    </tr>\n",
              "    <tr>\n",
              "      <th>Age</th>\n",
              "      <td>0</td>\n",
              "    </tr>\n",
              "    <tr>\n",
              "      <th>Gender</th>\n",
              "      <td>0</td>\n",
              "    </tr>\n",
              "    <tr>\n",
              "      <th>EverBenched</th>\n",
              "      <td>0</td>\n",
              "    </tr>\n",
              "    <tr>\n",
              "      <th>ExperienceInCurrentDomain</th>\n",
              "      <td>0</td>\n",
              "    </tr>\n",
              "    <tr>\n",
              "      <th>LeaveOrNot</th>\n",
              "      <td>0</td>\n",
              "    </tr>\n",
              "  </tbody>\n",
              "</table>\n",
              "</div><br><label><b>dtype:</b> int64</label>"
            ]
          },
          "metadata": {},
          "execution_count": 22
        }
      ]
    },
    {
      "cell_type": "markdown",
      "source": [
        "<h4>Hasil menunjukkan bahwa tidak ada missing values di semua kolom dataset."
      ],
      "metadata": {
        "id": "Xb5YZ_-L6k2d"
      }
    },
    {
      "cell_type": "markdown",
      "source": [
        "# Pengecekan Data Duplikat"
      ],
      "metadata": {
        "id": "T5kiHcRb68qp"
      }
    },
    {
      "cell_type": "markdown",
      "source": [
        "- 'duplicated()' digunakan untuk mengidentifikasi baris-baris duplikat dalam DataFrame. Baris yang duplikat adalah baris yang memiliki nilai yang sama di semua kolom dengan baris lain di DataFrame.\n",
        "- 'sum()' digunakan untuk menghitung jumlah total baris yang terdeteksi sebagai duplikat."
      ],
      "metadata": {
        "id": "7g4DagmN7HP6"
      }
    },
    {
      "cell_type": "code",
      "source": [
        "df.duplicated().sum()"
      ],
      "metadata": {
        "colab": {
          "base_uri": "https://localhost:8080/"
        },
        "id": "onfqv8WxzFqP",
        "outputId": "c0a3b617-2944-4532-93c2-05ba1d20e5de"
      },
      "execution_count": null,
      "outputs": [
        {
          "output_type": "execute_result",
          "data": {
            "text/plain": [
              "1889"
            ]
          },
          "metadata": {},
          "execution_count": 23
        }
      ]
    },
    {
      "cell_type": "markdown",
      "source": [
        "<h4> terdapat 1889 baris duplikat dalam dataset"
      ],
      "metadata": {
        "id": "KxZJsZA77Zvu"
      }
    },
    {
      "cell_type": "markdown",
      "source": [
        "# Menghapus Baris Duplikat"
      ],
      "metadata": {
        "id": "oyUFEDV-7vec"
      }
    },
    {
      "cell_type": "markdown",
      "source": [
        "- 'drop_duplicates()' digunakan untuk menghapus semua baris yang terdeteksi sebagai duplikat di DataFrame.\n",
        "- 'inplace=True' memastikan bahwa perubahan langsung diterapkan ke DataFrame asli tanpa perlu membuat salinan."
      ],
      "metadata": {
        "id": "ggDgU04F75GQ"
      }
    },
    {
      "cell_type": "code",
      "source": [
        "df.drop_duplicates(inplace=True)"
      ],
      "metadata": {
        "id": "n4uhyA_azLZQ"
      },
      "execution_count": null,
      "outputs": []
    },
    {
      "cell_type": "markdown",
      "source": [
        "# Menampilkan Informasi DataFrame\n",
        "\n",
        "- 'info()' memberikan detail penting tentang DataFrame, seperti jumlah total baris (entries), nama kolom, jumlah nilai non-null di setiap kolom, dan tipe data (dtype) masing-masing kolom"
      ],
      "metadata": {
        "id": "W3AG1Tsr8RU5"
      }
    },
    {
      "cell_type": "code",
      "source": [
        "df.info()"
      ],
      "metadata": {
        "colab": {
          "base_uri": "https://localhost:8080/"
        },
        "id": "pWehhOw7zNal",
        "outputId": "d2f16b99-b5be-4abe-d04c-903ebe0dde97"
      },
      "execution_count": null,
      "outputs": [
        {
          "output_type": "stream",
          "name": "stdout",
          "text": [
            "<class 'pandas.core.frame.DataFrame'>\n",
            "Index: 2764 entries, 0 to 4651\n",
            "Data columns (total 9 columns):\n",
            " #   Column                     Non-Null Count  Dtype \n",
            "---  ------                     --------------  ----- \n",
            " 0   Education                  2764 non-null   object\n",
            " 1   JoiningYear                2764 non-null   int64 \n",
            " 2   City                       2764 non-null   object\n",
            " 3   PaymentTier                2764 non-null   int64 \n",
            " 4   Age                        2764 non-null   int64 \n",
            " 5   Gender                     2764 non-null   object\n",
            " 6   EverBenched                2764 non-null   object\n",
            " 7   ExperienceInCurrentDomain  2764 non-null   int64 \n",
            " 8   LeaveOrNot                 2764 non-null   int64 \n",
            "dtypes: int64(5), object(4)\n",
            "memory usage: 215.9+ KB\n"
          ]
        }
      ]
    },
    {
      "cell_type": "markdown",
      "source": [
        "- Setelah menghapus duplikat, jumlah baris dalam dataset berkurang dari 4653 menjadi 2764 baris.\n",
        "- Dataset memiliki 9 kolom, dengan tipe data campuran antara object (untuk kolom kategorikal) dan int64 (untuk kolom numerik)."
      ],
      "metadata": {
        "id": "RQRcGbnI898F"
      }
    },
    {
      "cell_type": "markdown",
      "source": [
        "# LabelEncoder\n",
        "<h4> LabelEncoder digunakan untuk mengubah nilai-nilai kategorikal menjadi nilai numerik\n",
        "\n",
        "- encoder = LabelEncoder() membuat objek LabelEncoder.\n",
        "- columns = [\"Education\", \"City\", \"Gender\", \"EverBenched\"] menentukan daftar kolom yang berisi data kategorikal yang akan dikonversi.\n",
        "- Loop for cols in columns:: Pada setiap iterasi, LabelEncoder menerapkan konversi pada kolom yang tercantum dalam variabel columns.\n",
        "- fit_transform(df[cols]) digunakan untuk melakukan pelatihan dan transformasi pada kolom yang diberikan, mengonversi nilai kategorikal ke bentuk numerik. Misalnya, \"Male\" akan menjadi 1 dan \"Female\" menjadi 0."
      ],
      "metadata": {
        "id": "DMvZ90hs9h6Q"
      }
    },
    {
      "cell_type": "code",
      "source": [
        "from sklearn.preprocessing import LabelEncoder\n",
        "\n",
        "encoder = LabelEncoder()\n",
        "columns = [\"Education\", \"City\", \"Gender\", \"EverBenched\"]\n",
        "for cols in columns:\n",
        "    df[cols] = encoder.fit_transform(df[cols])"
      ],
      "metadata": {
        "id": "0yNQBGT9zP9X"
      },
      "execution_count": null,
      "outputs": []
    },
    {
      "cell_type": "markdown",
      "source": [
        "<h4> Kolom-kolom \"Education\", \"City\", \"Gender\", dan \"EverBenched\" sekarang berisi nilai numerik"
      ],
      "metadata": {
        "id": "ZQrT1-cF-Mk6"
      }
    },
    {
      "cell_type": "markdown",
      "source": [
        "# Pemisahan Fitur dan Label\n",
        "\n",
        "<h4>x = df.drop(\"LeaveOrNot\", axis=1):\n",
        "\n",
        "- Baris ini digunakan untuk membuat DataFrame baru x yang berisi semua kolom dari dataset kecuali kolom \"LeaveOrNot\".\n",
        "- df.drop() menghapus kolom \"LeaveOrNot\" dari DataFrame. Argumen axis=1 menunjukkan akan menghapus kolom, bukan baris.\n",
        "- Fitur (X) menjadi variabel independen yang digunakan oleh model untuk melakukan prediksi.\n",
        "\n",
        "y = df[\"LeaveOrNot\"]:\n",
        "- Baris ini mengambil kolom \"LeaveOrNot\" dan menyimpannya dalam variabel y.\n",
        "- y akan menjadi label atau variabel dependen yang akan diprediksi oleh model.\n",
        "- Label ini menunjukkan apakah seorang karyawan meninggalkan perusahaan (1) atau tidak (0)."
      ],
      "metadata": {
        "id": "LY5AdAzS-t2Q"
      }
    },
    {
      "cell_type": "code",
      "source": [
        "x = df.drop(\"LeaveOrNot\", axis=1)\n",
        "y = df[\"LeaveOrNot\"]"
      ],
      "metadata": {
        "id": "ErEGu4jzzpIH"
      },
      "execution_count": null,
      "outputs": []
    },
    {
      "cell_type": "markdown",
      "source": [
        "# Data Splitting\n",
        "\n",
        "from sklearn.model_selection import train_test_split:\n",
        "- digunakan untuk membagi dataset menjadi data latih dan data uji.\n",
        "\n",
        "x_train, x_test, y_train, y_test = train_test_split(x, y, test_size=0.3):\n",
        "- train_test_split() memisahkan data fitur (x) dan label (y) menjadi data latih dan data uji.\n",
        "- Argumen test_size=0.3 menunjukkan bahwa 30% dari dataset akan digunakan sebagai data uji (test set), sedangkan 70% sisanya akan digunakan sebagai data latih (training set).\n",
        "- x_train dan y_train adalah data latih yang akan digunakan untuk melatih model.\n",
        "- x_test dan y_test adalah data uji yang akan digunakan untuk mengevaluasi performa model setelah pelatihan."
      ],
      "metadata": {
        "id": "cpYLXa73Cb_A"
      }
    },
    {
      "cell_type": "code",
      "source": [
        "from sklearn.model_selection import train_test_split\n",
        "\n",
        "x_train, x_test, y_train, y_test = train_test_split(x, y, test_size=0.3)"
      ],
      "metadata": {
        "id": "DtPJrtvuzzOE"
      },
      "execution_count": null,
      "outputs": []
    },
    {
      "cell_type": "markdown",
      "source": [
        "# Normalisasi Data\n",
        "\n",
        "from sklearn.preprocessing import StandardScaler:\n",
        "- digunakan untuk melakukan scaling (normalisasi) data sehingga memiliki distribusi dengan mean = 0 dan standar deviasi = 1.\n",
        "\n",
        "scaler = StandardScaler():\n",
        "- Membuat objek scaler dari kelas StandardScaler. Objek ini akan digunakan untuk menghitung mean dan standar deviasi dari data latih\n",
        "\n",
        "x_train = scaler.fit_transform(x_train):\n",
        "- scaler menghitung mean dan standar deviasi dari data latih x_train dan kemudian mengaplikasikan transformasi untuk menormalisasi data.\n",
        "-fit_transform() melakukan dua hal yaitu Menghitung mean dan standar deviasi dari data latih dan menerapkan transformasi normalisasi pada data latih berdasarkan nilai mean dan standar deviasi yang sudah dihitung.\n",
        "\n",
        "x_test = scaler.transform(x_test):\n",
        "-  menerapkan transformasi yang sama pada data uji x_test.\n",
        "- transform() hanya menerapkan transformasi berdasarkan mean dan standar deviasi yang dihitung dari data latih (fit)"
      ],
      "metadata": {
        "id": "KU16aU74Drsk"
      }
    },
    {
      "cell_type": "code",
      "source": [
        "from sklearn.preprocessing import StandardScaler\n",
        "scaler  = StandardScaler()\n",
        "x_train =  scaler.fit_transform(x_train)\n",
        "x_test = scaler.transform(x_test)"
      ],
      "metadata": {
        "id": "H2yBb6mLz9Xf"
      },
      "execution_count": null,
      "outputs": []
    },
    {
      "cell_type": "markdown",
      "source": [
        "# Membangun Model Deep Learning dengan Keras(sequential model)"
      ],
      "metadata": {
        "id": "0gvTm5l7FfBY"
      }
    },
    {
      "cell_type": "markdown",
      "source": [
        "from keras import Sequential:\n",
        "\n",
        "- digunakan untuk membuat model berlapis yang ditambahkan secara sekuensial.\n",
        "\n",
        "from keras.layers import Dense:\n",
        "\n",
        "- digunakan untuk membuat fully connected layer (lapisan dengan semua neuron terhubung ke lapisan sebelumnya)."
      ],
      "metadata": {
        "id": "uAZRHuZoGEKe"
      }
    },
    {
      "cell_type": "code",
      "source": [
        "from keras import Sequential\n",
        "from keras.layers import Dense"
      ],
      "metadata": {
        "id": "YktJnUm90VbE"
      },
      "execution_count": null,
      "outputs": []
    },
    {
      "cell_type": "markdown",
      "source": [
        "model = Sequential():\n",
        "- Membuat objek model Sequential, yang akan digunakan untuk menambahkan lapisan-lapisan berikutnya secara bertahap.\n",
        "\n",
        "model.add(Dense(128, activation=\"relu\", input_dim=8)):\n",
        "\n",
        "- Menambahkan layer pertama dengan 128 neuron.\n",
        "- activation=\"relu\" menunjukkan bahwa setiap neuron dalam layer ini menggunakan fungsi aktivasi ReLU (Rectified Linear Unit), yang membantu mempercepat konvergensi dalam training.\n",
        "- input_dim=8 menunjukkan bahwa layer ini menerima 8 fitur input, sesuai dengan jumlah fitur dalam dataset.\n",
        "\n",
        "model.add(Dense(64, activation=\"relu\")):\n",
        "\n",
        "- Menambahkan layer kedua dengan 64 neuron, juga menggunakan fungsi aktivasi ReLU.\n",
        "\n",
        "model.add(Dense(32, activation=\"relu\")):\n",
        "\n",
        "- Menambahkan layer ketiga dengan 32 neuron, juga menggunakan fungsi aktivasi ReLU.\n",
        "\n",
        "model.add(Dense(1, activation=\"sigmoid\")):\n",
        "\n",
        "- Menambahkan output layer dengan 1 neuron. Karena ini adalah model untuk klasifikasi biner, kita menggunakan fungsi aktivasi sigmoid.\n",
        "- Sigmoid menghasilkan output antara 0 dan 1, yang cocok untuk kasus klasifikasi biner seperti memprediksi apakah karyawan akan meninggalkan perusahaan (1) atau tidak (0).\n"
      ],
      "metadata": {
        "id": "szu12QwvGcD-"
      }
    },
    {
      "cell_type": "code",
      "source": [
        "model = Sequential()\n",
        "\n",
        "model.add(Dense(128, activation=\"relu\", input_dim=8))\n",
        "\n",
        "model.add(Dense(64, activation=\"relu\"))\n",
        "model.add(Dense(32, activation=\"relu\"))\n",
        "\n",
        "model.add(Dense(1, activation=\"sigmoid\"))"
      ],
      "metadata": {
        "colab": {
          "base_uri": "https://localhost:8080/"
        },
        "id": "neuJ-bDE0ZdT",
        "outputId": "e3ce56cb-cdf6-48d7-c04c-64f07183c717"
      },
      "execution_count": null,
      "outputs": [
        {
          "output_type": "stream",
          "name": "stderr",
          "text": [
            "/usr/local/lib/python3.10/dist-packages/keras/src/layers/core/dense.py:87: UserWarning: Do not pass an `input_shape`/`input_dim` argument to a layer. When using Sequential models, prefer using an `Input(shape)` object as the first layer in the model instead.\n",
            "  super().__init__(activity_regularizer=activity_regularizer, **kwargs)\n"
          ]
        }
      ]
    },
    {
      "cell_type": "markdown",
      "source": [
        "# EarlyStopping\n",
        "\n",
        "from keras.callbacks import EarlyStopping:\n",
        "- callback yang digunakan untuk memonitor performa model selama pelatihan dan menghentikan pelatihan jika tidak ada peningkatan kinerja model dalam beberapa epoch berturut-turut.\n",
        "\n",
        "monitor_callback = EarlyStopping(monitor=\"val_accuracy\", patience=10):\n",
        "\n",
        "- monitor=\"val_accuracy\": Fungsi ini memonitor akurasi validasi selama pelatihan. Jika akurasi validasi tidak membaik dalam beberapa epoch, pelatihan akan dihentikan.\n",
        "- patience=10: Menentukan jumlah epoch sebelum pelatihan dihentikan jika tidak ada peningkatan akurasi. Dalam hal ini, model akan berhenti jika setelah 10 epoch berturut-turut tidak ada peningkatan pada akurasi validasi."
      ],
      "metadata": {
        "id": "q3UiAv6yHW62"
      }
    },
    {
      "cell_type": "code",
      "source": [
        "from keras.callbacks import EarlyStopping\n",
        "monitor_callback = EarlyStopping(monitor=\"val_accuracy\", patience=10)"
      ],
      "metadata": {
        "id": "Q4a_SD6j0vG7"
      },
      "execution_count": null,
      "outputs": []
    },
    {
      "cell_type": "markdown",
      "source": [
        "# Kompilasi Model\n",
        "\n",
        "from keras.optimizers import Adam:\n",
        "\n",
        "- Mengimpor optimizer Adam dari Keras. Adam adalah salah satu algoritma optimisasi yang populer karena kecepatan konvergensinya yang baik dalam training deep learning.\n",
        "\n",
        "from keras.losses import binary_crossentropy:\n",
        "\n",
        "- Mengimpor loss function binary_crossentropy dari Keras. Ini digunakan untuk tugas klasifikasi biner (dua kelas), seperti kasus memprediksi apakah karyawan akan meninggalkan perusahaan atau tidak."
      ],
      "metadata": {
        "id": "hp_7d_JxIZji"
      }
    },
    {
      "cell_type": "code",
      "source": [
        "from keras.optimizers import Adam\n",
        "from keras.losses import binary_crossentropy"
      ],
      "metadata": {
        "id": "vvbaTvx505_d"
      },
      "execution_count": null,
      "outputs": []
    },
    {
      "cell_type": "markdown",
      "source": [
        "model.compile(optimizer='Adam', loss='binary_crossentropy', metrics=[\"accuracy\"]):\n",
        "\n",
        "- optimizer='Adam': untuk memperbarui bobot dalam jaringan saraf selama pelatihan. Optimizer ini menggabungkan keunggulan dari algoritma AdaGrad dan RMSProp, membuatnya efektif dalam berbagai kasus machine learning.\n",
        "\n",
        "- loss='binary_crossentropy': Fungsi ini menghitung perbedaan antara label yang diprediksi (0 atau 1) dengan label sebenarnya selama proses training. Tujuannya adalah meminimalkan error yang dihasilkan oleh fungsi loss ini.\n",
        "\n",
        "- metrics=[\"accuracy\"]: Mengukur performa model menggunakan akurasi. Akurasi adalah proporsi prediksi yang benar dari keseluruhan prediksi yang dilakukan oleh model."
      ],
      "metadata": {
        "id": "q4g0Fa0vIs-i"
      }
    },
    {
      "cell_type": "code",
      "source": [
        "model.compile(optimizer='Adam', loss='binary_crossentropy', metrics=[\"accuracy\"])"
      ],
      "metadata": {
        "id": "JfkaGOr61GXE"
      },
      "execution_count": null,
      "outputs": []
    },
    {
      "cell_type": "markdown",
      "source": [
        "# Pelatihan Model\n",
        "\n",
        "x_train dan y_train :\n",
        "- Data fitur dan label untuk pelatihan.\n",
        "\n",
        "validation_data=(x_test, y_test):\n",
        "- Data validasi yang digunakan untuk mengevaluasi performa model pada data yang tidak dilihat selama pelatihan.\n",
        "\n",
        "epochs=100:\n",
        "- Model dilatih hingga maksimal 100 epoch, namun EarlyStopping akan menghentikan pelatihan lebih awal jika tidak ada peningkatan performa pada data validasi.\n",
        "\n",
        "verbose=1:\n",
        "- Menampilkan progres pelatihan per epoch, termasuk akurasi dan loss.\n",
        "\n",
        "callbacks=[monitor_callback]:\n",
        "- Menggunakan callback EarlyStopping yang telah didefinisikan sebelumnya untuk menghentikan pelatihan ketika akurasi validasi tidak meningkat selama 10 epoch berturut-turut."
      ],
      "metadata": {
        "id": "mmrf8R08JX4c"
      }
    },
    {
      "cell_type": "code",
      "source": [
        "fit = model.fit(x = x_train, y = y_train,\n",
        "                validation_data = (x_test,y_test),\n",
        "                epochs=100, verbose=1,\n",
        "                callbacks=[monitor_callback])"
      ],
      "metadata": {
        "colab": {
          "base_uri": "https://localhost:8080/"
        },
        "id": "mL0fsV7F1Wue",
        "outputId": "ef403fbc-328d-4d74-b121-0edb495b6726"
      },
      "execution_count": null,
      "outputs": [
        {
          "output_type": "stream",
          "name": "stdout",
          "text": [
            "Epoch 1/100\n",
            "\u001b[1m61/61\u001b[0m \u001b[32m━━━━━━━━━━━━━━━━━━━━\u001b[0m\u001b[37m\u001b[0m \u001b[1m2s\u001b[0m 6ms/step - accuracy: 0.6238 - loss: 0.6526 - val_accuracy: 0.6904 - val_loss: 0.5866\n",
            "Epoch 2/100\n",
            "\u001b[1m61/61\u001b[0m \u001b[32m━━━━━━━━━━━━━━━━━━━━\u001b[0m\u001b[37m\u001b[0m \u001b[1m0s\u001b[0m 3ms/step - accuracy: 0.6947 - loss: 0.5722 - val_accuracy: 0.7229 - val_loss: 0.5402\n",
            "Epoch 3/100\n",
            "\u001b[1m61/61\u001b[0m \u001b[32m━━━━━━━━━━━━━━━━━━━━\u001b[0m\u001b[37m\u001b[0m \u001b[1m0s\u001b[0m 3ms/step - accuracy: 0.7294 - loss: 0.5337 - val_accuracy: 0.7566 - val_loss: 0.5138\n",
            "Epoch 4/100\n",
            "\u001b[1m61/61\u001b[0m \u001b[32m━━━━━━━━━━━━━━━━━━━━\u001b[0m\u001b[37m\u001b[0m \u001b[1m0s\u001b[0m 2ms/step - accuracy: 0.7649 - loss: 0.4860 - val_accuracy: 0.7783 - val_loss: 0.4929\n",
            "Epoch 5/100\n",
            "\u001b[1m61/61\u001b[0m \u001b[32m━━━━━━━━━━━━━━━━━━━━\u001b[0m\u001b[37m\u001b[0m \u001b[1m0s\u001b[0m 3ms/step - accuracy: 0.7586 - loss: 0.4917 - val_accuracy: 0.7639 - val_loss: 0.4960\n",
            "Epoch 6/100\n",
            "\u001b[1m61/61\u001b[0m \u001b[32m━━━━━━━━━━━━━━━━━━━━\u001b[0m\u001b[37m\u001b[0m \u001b[1m0s\u001b[0m 3ms/step - accuracy: 0.7848 - loss: 0.4698 - val_accuracy: 0.7976 - val_loss: 0.4691\n",
            "Epoch 7/100\n",
            "\u001b[1m61/61\u001b[0m \u001b[32m━━━━━━━━━━━━━━━━━━━━\u001b[0m\u001b[37m\u001b[0m \u001b[1m0s\u001b[0m 3ms/step - accuracy: 0.7900 - loss: 0.4515 - val_accuracy: 0.8036 - val_loss: 0.4610\n",
            "Epoch 8/100\n",
            "\u001b[1m61/61\u001b[0m \u001b[32m━━━━━━━━━━━━━━━━━━━━\u001b[0m\u001b[37m\u001b[0m \u001b[1m0s\u001b[0m 3ms/step - accuracy: 0.8074 - loss: 0.4292 - val_accuracy: 0.8000 - val_loss: 0.4552\n",
            "Epoch 9/100\n",
            "\u001b[1m61/61\u001b[0m \u001b[32m━━━━━━━━━━━━━━━━━━━━\u001b[0m\u001b[37m\u001b[0m \u001b[1m0s\u001b[0m 3ms/step - accuracy: 0.7953 - loss: 0.4398 - val_accuracy: 0.7867 - val_loss: 0.4638\n",
            "Epoch 10/100\n",
            "\u001b[1m61/61\u001b[0m \u001b[32m━━━━━━━━━━━━━━━━━━━━\u001b[0m\u001b[37m\u001b[0m \u001b[1m0s\u001b[0m 3ms/step - accuracy: 0.8052 - loss: 0.4314 - val_accuracy: 0.8072 - val_loss: 0.4485\n",
            "Epoch 11/100\n",
            "\u001b[1m61/61\u001b[0m \u001b[32m━━━━━━━━━━━━━━━━━━━━\u001b[0m\u001b[37m\u001b[0m \u001b[1m0s\u001b[0m 3ms/step - accuracy: 0.8028 - loss: 0.4339 - val_accuracy: 0.8012 - val_loss: 0.4433\n",
            "Epoch 12/100\n",
            "\u001b[1m61/61\u001b[0m \u001b[32m━━━━━━━━━━━━━━━━━━━━\u001b[0m\u001b[37m\u001b[0m \u001b[1m0s\u001b[0m 2ms/step - accuracy: 0.8305 - loss: 0.3904 - val_accuracy: 0.7771 - val_loss: 0.4658\n",
            "Epoch 13/100\n",
            "\u001b[1m61/61\u001b[0m \u001b[32m━━━━━━━━━━━━━━━━━━━━\u001b[0m\u001b[37m\u001b[0m \u001b[1m0s\u001b[0m 3ms/step - accuracy: 0.8077 - loss: 0.4173 - val_accuracy: 0.7964 - val_loss: 0.4459\n",
            "Epoch 14/100\n",
            "\u001b[1m61/61\u001b[0m \u001b[32m━━━━━━━━━━━━━━━━━━━━\u001b[0m\u001b[37m\u001b[0m \u001b[1m0s\u001b[0m 3ms/step - accuracy: 0.8078 - loss: 0.4148 - val_accuracy: 0.7976 - val_loss: 0.4440\n",
            "Epoch 15/100\n",
            "\u001b[1m61/61\u001b[0m \u001b[32m━━━━━━━━━━━━━━━━━━━━\u001b[0m\u001b[37m\u001b[0m \u001b[1m0s\u001b[0m 3ms/step - accuracy: 0.8220 - loss: 0.3917 - val_accuracy: 0.7952 - val_loss: 0.4560\n",
            "Epoch 16/100\n",
            "\u001b[1m61/61\u001b[0m \u001b[32m━━━━━━━━━━━━━━━━━━━━\u001b[0m\u001b[37m\u001b[0m \u001b[1m0s\u001b[0m 2ms/step - accuracy: 0.8344 - loss: 0.3756 - val_accuracy: 0.7952 - val_loss: 0.4568\n",
            "Epoch 17/100\n",
            "\u001b[1m61/61\u001b[0m \u001b[32m━━━━━━━━━━━━━━━━━━━━\u001b[0m\u001b[37m\u001b[0m \u001b[1m0s\u001b[0m 2ms/step - accuracy: 0.8339 - loss: 0.3706 - val_accuracy: 0.7928 - val_loss: 0.4484\n",
            "Epoch 18/100\n",
            "\u001b[1m61/61\u001b[0m \u001b[32m━━━━━━━━━━━━━━━━━━━━\u001b[0m\u001b[37m\u001b[0m \u001b[1m0s\u001b[0m 3ms/step - accuracy: 0.8257 - loss: 0.3754 - val_accuracy: 0.7964 - val_loss: 0.4543\n",
            "Epoch 19/100\n",
            "\u001b[1m61/61\u001b[0m \u001b[32m━━━━━━━━━━━━━━━━━━━━\u001b[0m\u001b[37m\u001b[0m \u001b[1m0s\u001b[0m 3ms/step - accuracy: 0.8311 - loss: 0.3768 - val_accuracy: 0.7988 - val_loss: 0.4497\n",
            "Epoch 20/100\n",
            "\u001b[1m61/61\u001b[0m \u001b[32m━━━━━━━━━━━━━━━━━━━━\u001b[0m\u001b[37m\u001b[0m \u001b[1m0s\u001b[0m 3ms/step - accuracy: 0.8298 - loss: 0.3685 - val_accuracy: 0.7759 - val_loss: 0.4667\n"
          ]
        }
      ]
    },
    {
      "cell_type": "markdown",
      "source": [
        "<h4> Model menunjukkan hasil yang baik dengan akurasi validasi yang stabil sekitar 79% setelah beberapa epoch."
      ],
      "metadata": {
        "id": "hhSbktYGKFz0"
      }
    },
    {
      "cell_type": "markdown",
      "source": [
        "# Evaluasi Model"
      ],
      "metadata": {
        "id": "CgpzF-EhKnNG"
      }
    },
    {
      "cell_type": "markdown",
      "source": [
        "- model.evaluate() digunakan untuk mengevaluasi model yang sudah dilatih pada data uji x_test dan y_test."
      ],
      "metadata": {
        "id": "Y1Ih-t_2K7-w"
      }
    },
    {
      "cell_type": "code",
      "source": [
        "loss, accuracy = model.evaluate(x_test, y_test)\n",
        "print(f\"Loss: {loss}\")\n",
        "print(f\"Accuracy: {accuracy}\")"
      ],
      "metadata": {
        "colab": {
          "base_uri": "https://localhost:8080/"
        },
        "id": "lYB--qkw1xCL",
        "outputId": "eae16863-30e3-4c64-a1de-6643e1c2aa06"
      },
      "execution_count": null,
      "outputs": [
        {
          "output_type": "stream",
          "name": "stdout",
          "text": [
            "\u001b[1m26/26\u001b[0m \u001b[32m━━━━━━━━━━━━━━━━━━━━\u001b[0m\u001b[37m\u001b[0m \u001b[1m0s\u001b[0m 1ms/step - accuracy: 0.7724 - loss: 0.4481 \n",
            "Loss: 0.46671292185783386\n",
            "Accuracy: 0.7759036421775818\n"
          ]
        }
      ]
    },
    {
      "cell_type": "markdown",
      "source": [
        "- Loss: 0.4481, yang menunjukkan tingkat error dari prediksi model. Nilai ini cukup rendah, menandakan bahwa model bekerja dengan baik pada data uji.\n",
        "- Accuracy: 0.7759 (atau sekitar 77.59%), menunjukkan bahwa model mampu memprediksi dengan benar sekitar 77.6% dari data uji."
      ],
      "metadata": {
        "id": "N_loVGLGKwA4"
      }
    },
    {
      "cell_type": "markdown",
      "source": [
        "# Visualisasi Akurasi dan Loss"
      ],
      "metadata": {
        "id": "-TqtK_NWLW8S"
      }
    },
    {
      "cell_type": "code",
      "source": [
        "import matplotlib.pyplot as plt\n",
        "\n",
        "plt.figure(figsize=(12, 4))\n",
        "plt.subplot(1, 2, 1)\n",
        "plt.plot(fit.history['accuracy'], label='train')\n",
        "plt.plot(fit.history['val_accuracy'], label='val')\n",
        "plt.title('model accuracy')\n",
        "plt.xlabel('epoch')\n",
        "plt.ylabel('accuracy')\n",
        "plt.legend()\n",
        "\n",
        "plt.subplot(1, 2, 2)\n",
        "plt.plot(fit.history['loss'], label='train')\n",
        "plt.plot(fit.history['val_loss'], label='val')\n",
        "plt.title('model loss')\n",
        "plt.xlabel('epoch')\n",
        "plt.ylabel('loss')\n",
        "plt.legend()\n",
        "\n",
        "plt.tight_layout()\n",
        "plt.show()"
      ],
      "metadata": {
        "colab": {
          "base_uri": "https://localhost:8080/",
          "height": 382
        },
        "id": "5zlKUZw72RYH",
        "outputId": "c3112732-80ea-4054-da2c-fb73d34c4de8"
      },
      "execution_count": null,
      "outputs": [
        {
          "output_type": "display_data",
          "data": {
            "text/plain": [
              "<Figure size 1200x400 with 2 Axes>"
            ],
            "image/png": "[encoded data removed]"
          },
          "metadata": {}
        }
      ]
    },
    {
      "cell_type": "markdown",
      "source": [
        "Grafik Akurasi:\n",
        "\n",
        "- Akurasi model pada data latih (biru) terus meningkat dan mencapai lebih dari 80% pada epoch terakhir.\n",
        "- Akurasi validasi (oranye) juga meningkat, meskipun sedikit lebih rendah daripada data latih.\n",
        "- Tidak ada tanda-tanda overfitting yang signifikan karena akurasi validasi tidak turun jauh di bawah akurasi pelatihan.\n",
        "\n",
        "Grafik Loss:\n",
        "\n",
        "- Loss pada data latih dan data validasi terus menurun selama pelatihan, menunjukkan bahwa model semakin baik dalam meminimalkan error.\n",
        "- Pada akhir pelatihan, loss stabil di sekitar nilai yang rendah, menandakan bahwa model telah mencapai titik konvergensi."
      ],
      "metadata": {
        "id": "i5fLs-LNLmoY"
      }
    }
  ]
}